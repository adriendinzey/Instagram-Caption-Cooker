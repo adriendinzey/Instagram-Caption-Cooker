{
 "cells": [
  {
   "cell_type": "code",
   "execution_count": null,
   "metadata": {},
   "outputs": [],
   "source": [
    "import tensorflow as tf\n",
    "import numpy as np\n",
    "import pandas as pd\n",
    "from copy import deepcopy\n",
    "import random\n",
    "from PIL import Image\n",
    "from tqdm import tqdm\n",
    "from collections import defaultdict\n",
    "import time"
   ]
  },
  {
   "cell_type": "markdown",
   "metadata": {},
   "source": [
    "# Preprocessing Data"
   ]
  },
  {
   "cell_type": "code",
   "execution_count": null,
   "metadata": {},
   "outputs": [],
   "source": [
    "captions_path = \"../images/instagram_data/captions_csv.csv\"\n",
    "images_path = \"../images/instagram_data/img\"\n",
    "def convertFileToPath(filename):\n",
    "    pathname = \"../images/instagram_data/\"+filename+\".jpg\"\n",
    "    return pathname\n",
    "captions_csv = pd.read_csv(captions_path).dropna()\n",
    "keys_vector = captions_csv[\"Image File\"].values\n",
    "for i in range(len(keys_vector)):\n",
    "    keys_vector[i] = convertFileToPath(keys_vector[i])\n",
    "\n",
    "values_vector = captions_csv[\"Caption\"].values\n",
    "caption_dict = {}\n",
    "for key,value in zip(keys_vector,values_vector):\n",
    "    caption_dict[key]=value\n",
    "\n",
    "\n",
    "training_paths = deepcopy(keys_vector)\n",
    "random.shuffle(training_paths)\n",
    "\n",
    "training_captions = []\n",
    "for path in training_paths:\n",
    "    training_captions.append(caption_dict[path])\n"
   ]
  },
  {
   "cell_type": "code",
   "execution_count": null,
   "metadata": {},
   "outputs": [],
   "source": [
    "def preprocessImage(image_path):\n",
    "    image = tf.io.read_file(image_path)\n",
    "    image = tf.image.decode_jpeg(image,channels=3)\n",
    "    image = tf.image.resize(image, (299,299))\n",
    "    image = tf.keras.applications.inception_v3.preprocess_input(image)\n",
    "    return image,image_path\n"
   ]
  },
  {
   "cell_type": "code",
   "execution_count": null,
   "metadata": {},
   "outputs": [],
   "source": [
    "inception_model = tf.keras.applications.inception_v3.InceptionV3(include_top=False,weights=\"imagenet\")\n",
    "new_input = inception_model.input\n",
    "hidden_layer = inception_model.layers[-1].output\n",
    "feature_extraction_network = tf.keras.Model(new_input,hidden_layer)"
   ]
  },
  {
   "cell_type": "code",
   "execution_count": null,
   "metadata": {},
   "outputs": [],
   "source": [
    "encoded_data = sorted(set(keys_vector))\n",
    "image_dataset = tf.data.Dataset.from_tensor_slices(encoded_data)\n",
    "image_dataset = image_dataset.map(preprocessImage).batch(32)"
   ]
  },
  {
   "cell_type": "code",
   "execution_count": null,
   "metadata": {},
   "outputs": [],
   "source": [
    "# This took me about 25 mins on my laptop to finish processing\n",
    "for image,path in tqdm(image_dataset):\n",
    "    features = feature_extraction_network(image)\n",
    "    features = tf.reshape(features, (features.shape[0],-1,features.shape[3]))\n",
    "    for feat,p in zip(features,path):\n",
    "        features_path = p.numpy().decode(\"utf-8\")\n",
    "        np.save(features_path, feat.numpy())"
   ]
  },
  {
   "cell_type": "code",
   "execution_count": null,
   "metadata": {},
   "outputs": [],
   "source": [
    "training_captions = [\"<start> \"+x for x in training_captions]\n",
    "tokenizer = tf.keras.preprocessing.text.Tokenizer(num_words = 5000, oov_token = \"<unk>\",filters = '!\"#$%&()*+.,-/:;=?@[\\]^_`{|}~')\n",
    "tokenizer.fit_on_texts(training_captions)"
   ]
  },
  {
   "cell_type": "code",
   "execution_count": null,
   "metadata": {},
   "outputs": [],
   "source": [
    "tokenizer.word_index['<pad>'] = 0\n",
    "tokenizer.index_word[0] = '<pad>'"
   ]
  },
  {
   "cell_type": "code",
   "execution_count": null,
   "metadata": {},
   "outputs": [],
   "source": [
    "training_sequences = tokenizer.texts_to_sequences(training_captions)\n",
    "training_sequences_vector = tf.keras.preprocessing.sequence.pad_sequences(training_sequences,padding = \"post\")"
   ]
  },
  {
   "cell_type": "code",
   "execution_count": null,
   "metadata": {},
   "outputs": [],
   "source": [
    "max_length = max(len(t) for t in training_sequences)"
   ]
  },
  {
   "cell_type": "code",
   "execution_count": null,
   "metadata": {},
   "outputs": [],
   "source": [
    "sequences_dict = {}\n",
    "for image, caption in zip(keys_vector,training_sequences_vector):\n",
    "    sequences_dict[image]=caption"
   ]
  },
  {
   "cell_type": "code",
   "execution_count": null,
   "metadata": {},
   "outputs": [],
   "source": [
    "image_keys = list(sequences_dict.keys())\n",
    "random.shuffle(image_keys)\n",
    "\n",
    "index = int(len(image_keys)*.8)\n",
    "training_keys,validation_keys = image_keys[:index],image_keys[index:]"
   ]
  },
  {
   "cell_type": "code",
   "execution_count": null,
   "metadata": {},
   "outputs": [],
   "source": [
    "training_caps = []\n",
    "for key in training_keys:\n",
    "    training_caps.append(sequences_dict[key])\n",
    "validation_caps = []\n",
    "for key in validation_keys:\n",
    "    validation_caps.append(sequences_dict[key])"
   ]
  },
  {
   "cell_type": "code",
   "execution_count": null,
   "metadata": {},
   "outputs": [],
   "source": [
    "batch_size = 16\n",
    "buffer_size = 500\n",
    "embedding_dim = 256\n",
    "units = 512\n",
    "vocab_size = 5001\n",
    "num_steps = len(training_keys)\n",
    "features_shape = 2048\n",
    "attention_features_shape = 16"
   ]
  },
  {
   "cell_type": "code",
   "execution_count": null,
   "metadata": {},
   "outputs": [],
   "source": [
    "def mapCacheToMemory(image,caption):\n",
    "    tens = np.load(image.decode(\"utf-8\")+\".npy\")\n",
    "    return tens,caption"
   ]
  },
  {
   "cell_type": "code",
   "execution_count": null,
   "metadata": {},
   "outputs": [],
   "source": [
    "dataset = tf.data.Dataset.from_tensor_slices((training_keys,training_caps))\n",
    "dataset = dataset.map(lambda x, y: tf.numpy_function(mapCacheToMemory,[x,y],[tf.float32,tf.int32]))\n",
    "dataset = dataset.shuffle(buffer_size).batch(batch_size)"
   ]
  },
  {
   "cell_type": "markdown",
   "metadata": {},
   "source": [
    "# Training the Model"
   ]
  },
  {
   "cell_type": "code",
   "execution_count": null,
   "metadata": {},
   "outputs": [],
   "source": [
    "class BahdanauAttention(tf.keras.Model):\n",
    "    def __init__(self,units):\n",
    "        super(BahdanauAttention,self).__init__()\n",
    "        self.W1 = tf.keras.layers.Dense(units)\n",
    "        self.W2 = tf.keras.layers.Dense(units)\n",
    "        self.V = tf.keras.layers.Dense(1)\n",
    "    \n",
    "    def call(self, features, hidden):\n",
    "        hidden_axis = tf.expand_dims(hidden,1)\n",
    "        attention_hidden_layer = (tf.nn.tanh(self.W1(features)+self.W2(hidden_axis)))\n",
    "        score = self.V(attention_hidden_layer)\n",
    "        attention_weights = tf.nn.softmax(score, axis = 1)\n",
    "        context_vector = attention_weights * features\n",
    "        context_vector = tf.reduce_sum(context_vector,axis = 1)\n",
    "        return context_vector, attention_weights"
   ]
  },
  {
   "cell_type": "code",
   "execution_count": null,
   "metadata": {},
   "outputs": [],
   "source": [
    "class CNN_Encoder(tf.keras.Model):\n",
    "    def __init__(self,embedding_dim):\n",
    "        super(CNN_Encoder,self).__init__()\n",
    "        self.fc = tf.keras.layers.Dense(embedding_dim)\n",
    "    \n",
    "    def call(self,x):\n",
    "        x = self.fc(x)\n",
    "        x = tf.nn.relu(x)\n",
    "        return x"
   ]
  },
  {
   "cell_type": "code",
   "execution_count": null,
   "metadata": {},
   "outputs": [],
   "source": [
    "class RNN_Decoder(tf.keras.Model):\n",
    "    def __init__(self,embedding_dim,units,vocab_size):\n",
    "        super(RNN_Decoder,self).__init__()\n",
    "        self.units = units\n",
    "        self.embedding = tf.keras.layers.Embedding(vocab_size,embedding_dim)\n",
    "        self.gru = tf.keras.layers.GRU(self.units,return_sequences=True,return_state=True,recurrent_initializer='glorot_uniform')\n",
    "        self.fc1 = tf.keras.layers.Dense(self.units)\n",
    "        self.fc2 = tf.keras.layers.Dense(vocab_size)\n",
    "        self.attention = BahdanauAttention(self.units)\n",
    "    \n",
    "    def call(self,x,features,hidden):\n",
    "        context_vector,attention_weights = self.attention(features,hidden)\n",
    "        x = self.embedding(x)\n",
    "        x = tf.concat([tf.expand_dims(context_vector,1),x],axis=-1)\n",
    "        output, state = self.gru(x)\n",
    "        x = self.fc1(output)\n",
    "        x = tf.reshape(x,(-1,x.shape[2]))\n",
    "        x = self.fc2(x)\n",
    "        return x,state,attention_weights\n",
    "    \n",
    "    def resetState(self,batch_size):\n",
    "        return tf.zeros((batch_size,self.units))"
   ]
  },
  {
   "cell_type": "code",
   "execution_count": null,
   "metadata": {},
   "outputs": [],
   "source": [
    "encoder = CNN_Encoder(embedding_dim)\n",
    "decoder = RNN_Decoder(embedding_dim,units,vocab_size)"
   ]
  },
  {
   "cell_type": "code",
   "execution_count": null,
   "metadata": {},
   "outputs": [],
   "source": [
    "optimizer = tf.keras.optimizers.Adam()\n",
    "loss_object = tf.keras.losses.SparseCategoricalCrossentropy(from_logits=True,reduction=\"none\")\n",
    "def lossFunction(expected,predicted):\n",
    "    mask = tf.math.logical_not(tf.math.equal(expected,0))\n",
    "    loss_ = loss_object(expected,predicted)\n",
    "    mask = tf.cast(mask,dtype=loss_.dtype)\n",
    "    loss_ *= mask\n",
    "    return tf.reduce_mean(loss_)\n"
   ]
  },
  {
   "cell_type": "code",
   "execution_count": null,
   "metadata": {},
   "outputs": [],
   "source": [
    "checkpoint_path = \"./checkpoints/train\"\n",
    "checkpoint = tf.train.Checkpoint(encoder=encoder,decoder=decoder,optimizer=optimizer)\n",
    "checkpoint_manager = tf.train.CheckpointManager(checkpoint,checkpoint_path,max_to_keep=5)"
   ]
  },
  {
   "cell_type": "code",
   "execution_count": null,
   "metadata": {},
   "outputs": [],
   "source": [
    "start_epoch = 1\n",
    "if checkpoint_manager.latest_checkpoint:\n",
    "    start_epoch = int(checkpoint_manager.latest_checkpoint.split('-')[-1])\n",
    "    checkpoint.restore(checkpoint_manager.latest_checkpoint)"
   ]
  },
  {
   "cell_type": "code",
   "execution_count": null,
   "metadata": {},
   "outputs": [],
   "source": [
    "loss_plot = []\n",
    "@tf.function\n",
    "def trainStep(image_tensor, target):\n",
    "    loss = 0\n",
    "    hidden = decoder.resetState(batch_size=target.shape[0])\n",
    "    decoder_input = tf.expand_dims([tokenizer.word_index[\"<start>\"]] * target.shape[0],1)\n",
    "    with tf.GradientTape() as tape:\n",
    "        features = encoder(image_tensor)\n",
    "        for i in range(1,target.shape[1]):\n",
    "            prediction, hidden, _ = decoder(decoder_input,features,hidden)\n",
    "            loss += lossFunction(target[:,i], prediction)\n",
    "            decoder_input = tf.expand_dims(target[:,i],1)\n",
    "    total_loss = (loss/int(target.shape[1]))\n",
    "    trainable_variables = encoder.trainable_variables + decoder.trainable_variables\n",
    "    gradients = tape.gradient(loss,trainable_variables)\n",
    "    optimizer.apply_gradients(zip(gradients,trainable_variables))\n",
    "    return loss, total_loss\n"
   ]
  },
  {
   "cell_type": "code",
   "execution_count": null,
   "metadata": {},
   "outputs": [],
   "source": [
    "epochs = 20\n",
    "for epoch in range(start_epoch, epochs):\n",
    "    start = time.time()\n",
    "    total_loss = 0\n",
    "    for (batch,  (image_tensor,target)) in enumerate(dataset):\n",
    "        batch_loss, t_loss = trainStep(image_tensor,target)\n",
    "        total_loss += t_loss\n",
    "\n",
    "        if batch % 100 == 0:\n",
    "            average_batch_loss = batch_loss.numpy() / int(target.shape[1])\n",
    "            print(f\"Epoch {epoch} Batch {batch} Loss {average_batch_loss:.4f}\")\n",
    "        loss_plot.append(total_loss/num_steps)\n",
    "    if epoch % 5 == 0:\n",
    "        checkpoint_manager.save()\n",
    "    print(f\"Epoch {epoch} Loss {total_loss/num_steps:.6f}\")\n",
    "    print(f\"Time taken for 1 epoch {time.time() - start:.2f} sec\\n\")"
   ]
  }
 ],
 "metadata": {
  "kernelspec": {
   "display_name": "Python 3.10.0 ('.virtenv': venv)",
   "language": "python",
   "name": "python3"
  },
  "language_info": {
   "codemirror_mode": {
    "name": "ipython",
    "version": 3
   },
   "file_extension": ".py",
   "mimetype": "text/x-python",
   "name": "python",
   "nbconvert_exporter": "python",
   "pygments_lexer": "ipython3",
   "version": "3.9.13"
  },
  "orig_nbformat": 4,
  "vscode": {
   "interpreter": {
    "hash": "861c2f9f7e81e4db99aab0ac33bbb35ca80de2cd905aac1b39b757caeaaec38e"
   }
  }
 },
 "nbformat": 4,
 "nbformat_minor": 2
}
